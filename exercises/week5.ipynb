{
 "cells": [
  {
   "cell_type": "code",
   "execution_count": 1,
   "metadata": {},
   "outputs": [],
   "source": [
    "import numpy as np\n",
    "%matplotlib inline\n",
    "import matplotlib.pyplot as plt\n",
    "import matplotlib as mlp\n",
    "import seaborn as sns\n",
    "from scipy.spatial.transform import Rotation\n",
    "\n",
    "import utils\n",
    "from importlib import reload\n",
    "\n",
    "sns.set_theme(palette=sns.color_palette(\"twilight_shifted\"))"
   ]
  },
  {
   "cell_type": "code",
   "execution_count": 2,
   "metadata": {},
   "outputs": [],
   "source": [
    "r1 = r2 = np.identity(3)\n",
    "t1, t2 = np.array([0, 0, 1]).reshape(-1, 1), np.array([0, 0, 20]).reshape(-1, 1)\n",
    "k1 = k2 = np.array([\n",
    "    [700, 0, 600],\n",
    "    [0, 700, 400],\n",
    "    [0, 0, 1]\n",
    "])\n",
    "Q = np.array([1, 1, 0])"
   ]
  },
  {
   "cell_type": "markdown",
   "metadata": {},
   "source": [
    "## **Exercise 5.1** ProjectionMatrices"
   ]
  },
  {
   "cell_type": "code",
   "execution_count": 3,
   "metadata": {},
   "outputs": [
    {
     "name": "stdout",
     "output_type": "stream",
     "text": [
      "p1=array([[700.,   0., 600., 600.],\n",
      "       [  0., 700., 400., 400.],\n",
      "       [  0.,   0.,   1.,   1.]])\n",
      "p2=array([[  700.,     0.,   600., 12000.],\n",
      "       [    0.,   700.,   400.,  8000.],\n",
      "       [    0.,     0.,     1.,    20.]])\n",
      "q1=array([[1.18181818]])\n",
      "q2=array([[1.45977011]])\n"
     ]
    }
   ],
   "source": [
    "p1 = utils.make_projection_matrix(k1, r1, t1)\n",
    "p2 = utils.make_projection_matrix(k2, r2, t2)\n",
    "\n",
    "q1 = utils.hom_to_inhom(\n",
    "    utils.projectpoints(k1, r1, t1, Q)\n",
    ")\n",
    "q2 = utils.hom_to_inhom(\n",
    "    utils.projectpoints(k2, r2, t2, Q)\n",
    ")\n",
    "np.set_printoptions(suppress=True)\n",
    "print(f\"{p1=}\\n{p2=}\\n{q1=}\\n{q2=}\")"
   ]
  },
  {
   "cell_type": "markdown",
   "metadata": {},
   "source": [
    "## **Exercise 5.2** Adding noise to points"
   ]
  },
  {
   "cell_type": "code",
   "execution_count": 4,
   "metadata": {},
   "outputs": [
    {
     "name": "stdout",
     "output_type": "stream",
     "text": [
      "Triangulated point q:\n",
      "\t[-30252.78866817 -20230.60206522  35421.47278714]\n",
      "Distance between noise image in p1:\n",
      "\t0.038 pixels\n",
      "Distance between noise image in p2:\n",
      "\t  0.038 pixels\n",
      "Distance original point and triangulated point:\n",
      "\t50786.713\n"
     ]
    }
   ],
   "source": [
    "reload(utils)\n",
    "# Adding noise to points\n",
    "noise = np.array([1, -1]).reshape(-1, 1)\n",
    "qnoise1 = q1 + noise\n",
    "qnoise2 = q2 + noise\n",
    "\n",
    "# Stacking them for the triangulation\n",
    "qs = np.vstack([qnoise1, qnoise2])\n",
    "ps = np.vstack([p1, p2])\n",
    "\n",
    "# Triangulting the point\n",
    "Qnoise = utils.hom_to_inhom(\n",
    "    utils.triangulate(qs, ps, return_hom=True)\n",
    ")\n",
    "\n",
    "# Reprojecting points\n",
    "q1noise = utils.projectpoints(k1, r1, t1, Qnoise)\n",
    "q2noise = utils.projectpoints(k2, r2, t2, Qnoise)\n",
    "\n",
    "print(f\"Triangulated point q:\\n\\t{Qnoise}\")\n",
    "print(f\"Distance between noise image in p1:\\n\\t{np.linalg.norm(qnoise1 - q1noise):.3f} pixels\")\n",
    "print(f\"Distance between noise image in p2:\\n\\t{np.linalg.norm(qnoise2 - q2noise):7.3f} pixels\")\n",
    "print(f\"Distance original point and triangulated point:\\n\\t{np.linalg.norm(Q - Qnoise):.3f}\")"
   ]
  },
  {
   "cell_type": "markdown",
   "metadata": {},
   "source": [
    "## **Exercise 5.3** Nonlinear triangulation"
   ]
  },
  {
   "cell_type": "code",
   "execution_count": 5,
   "metadata": {},
   "outputs": [
    {
     "ename": "IndexError",
     "evalue": "tuple index out of range",
     "output_type": "error",
     "traceback": [
      "\u001b[0;31m---------------------------------------------------------------------------\u001b[0m",
      "\u001b[0;31mIndexError\u001b[0m                                Traceback (most recent call last)",
      "\u001b[1;32m/home/snoooze/Git/ComputerVision/exercises/week5.ipynb Cell 8'\u001b[0m in \u001b[0;36m<module>\u001b[0;34m\u001b[0m\n\u001b[1;32m      <a href='vscode-notebook-cell:/home/snoooze/Git/ComputerVision/exercises/week5.ipynb#ch0000007?line=0'>1</a>\u001b[0m reload(utils)\n\u001b[0;32m----> <a href='vscode-notebook-cell:/home/snoooze/Git/ComputerVision/exercises/week5.ipynb#ch0000007?line=1'>2</a>\u001b[0m utils\u001b[39m.\u001b[39;49mtriangulate_nonlin(qs, ps)\n",
      "File \u001b[0;32m~/Git/ComputerVision/exercises/utils.py:202\u001b[0m, in \u001b[0;36mtriangulate_nonlin\u001b[0;34m(qs, ps)\u001b[0m\n\u001b[1;32m    <a href='file:///home/snoooze/Git/ComputerVision/exercises/utils.py?line=197'>198</a>\u001b[0m     resids \u001b[39m=\u001b[39m hom_to_inhom((ps \u001b[39m@\u001b[39m Q)\u001b[39m.\u001b[39mreshape(\u001b[39m-\u001b[39m\u001b[39m1\u001b[39m, \u001b[39m3\u001b[39m)\u001b[39m.\u001b[39mT)\u001b[39m.\u001b[39mT\u001b[39m.\u001b[39mreshape(\u001b[39m-\u001b[39m\u001b[39m1\u001b[39m) \u001b[39m-\u001b[39m qs\n\u001b[1;32m    <a href='file:///home/snoooze/Git/ComputerVision/exercises/utils.py?line=198'>199</a>\u001b[0m     \u001b[39mreturn\u001b[39;00m resids\n\u001b[0;32m--> <a href='file:///home/snoooze/Git/ComputerVision/exercises/utils.py?line=201'>202</a>\u001b[0m x0 \u001b[39m=\u001b[39m triangulate(qs, ps, return_hom\u001b[39m=\u001b[39;49m\u001b[39mTrue\u001b[39;49;00m)\n\u001b[1;32m    <a href='file:///home/snoooze/Git/ComputerVision/exercises/utils.py?line=202'>203</a>\u001b[0m \u001b[39m# optim = optimize.least_squares(compute_residuals, x0)\u001b[39;00m\n\u001b[1;32m    <a href='file:///home/snoooze/Git/ComputerVision/exercises/utils.py?line=203'>204</a>\u001b[0m \u001b[39mreturn\u001b[39;00m compute_residuals(x0)\n",
      "File \u001b[0;32m~/Git/ComputerVision/exercises/utils.py:159\u001b[0m, in \u001b[0;36mtriangulate\u001b[0;34m(qs, ps, return_hom)\u001b[0m\n\u001b[1;32m    <a href='file:///home/snoooze/Git/ComputerVision/exercises/utils.py?line=148'>149</a>\u001b[0m \u001b[39m\"\"\"Finds a point given pixel coordinates q, and their respective projection matrix p\u001b[39;00m\n\u001b[1;32m    <a href='file:///home/snoooze/Git/ComputerVision/exercises/utils.py?line=149'>150</a>\u001b[0m \n\u001b[1;32m    <a href='file:///home/snoooze/Git/ComputerVision/exercises/utils.py?line=150'>151</a>\u001b[0m \u001b[39mArgs:\u001b[39;00m\n\u001b[0;32m   (...)\u001b[0m\n\u001b[1;32m    <a href='file:///home/snoooze/Git/ComputerVision/exercises/utils.py?line=155'>156</a>\u001b[0m \u001b[39m    np.array: _description_\u001b[39;00m\n\u001b[1;32m    <a href='file:///home/snoooze/Git/ComputerVision/exercises/utils.py?line=156'>157</a>\u001b[0m \u001b[39m\"\"\"\u001b[39;00m\n\u001b[1;32m    <a href='file:///home/snoooze/Git/ComputerVision/exercises/utils.py?line=157'>158</a>\u001b[0m \u001b[39m# We check whether the shape is alright\u001b[39;00m\n\u001b[0;32m--> <a href='file:///home/snoooze/Git/ComputerVision/exercises/utils.py?line=158'>159</a>\u001b[0m \u001b[39massert\u001b[39;00m qs\u001b[39m.\u001b[39;49mshape[\u001b[39m1\u001b[39;49m] \u001b[39m==\u001b[39m \u001b[39m1\u001b[39m\n\u001b[1;32m    <a href='file:///home/snoooze/Git/ComputerVision/exercises/utils.py?line=159'>160</a>\u001b[0m \u001b[39massert\u001b[39;00m ps\u001b[39m.\u001b[39mshape[\u001b[39m0\u001b[39m] \u001b[39m%\u001b[39m \u001b[39m3\u001b[39m \u001b[39m==\u001b[39m \u001b[39m0\u001b[39m\n\u001b[1;32m    <a href='file:///home/snoooze/Git/ComputerVision/exercises/utils.py?line=161'>162</a>\u001b[0m left_side \u001b[39m=\u001b[39m np\u001b[39m.\u001b[39mrepeat(ps[\u001b[39m2\u001b[39m::\u001b[39m3\u001b[39m], \u001b[39m2\u001b[39m, axis\u001b[39m=\u001b[39m\u001b[39m0\u001b[39m)\n",
      "\u001b[0;31mIndexError\u001b[0m: tuple index out of range"
     ]
    }
   ],
   "source": [
    "reload(utils)\n",
    "utils.triangulate_nonlin(qs, ps)"
   ]
  },
  {
   "cell_type": "code",
   "execution_count": null,
   "metadata": {},
   "outputs": [
    {
     "data": {
      "text/plain": [
       "array([1310.48950027, 1089.4923513 ,  635.53411968,  434.4839772 ])"
      ]
     },
     "execution_count": 37,
     "metadata": {},
     "output_type": "execute_result"
    }
   ],
   "source": [
    "Qtilde = utils.triangulate(qs, ps, return_hom=True)\n",
    "utils.hom_to_inhom((ps @ Qtilde).reshape(-1, 3).T).T.reshape(-1)"
   ]
  },
  {
   "cell_type": "code",
   "execution_count": null,
   "metadata": {},
   "outputs": [
    {
     "data": {
      "text/plain": [
       "array([[1310.48950027,  635.53411968],\n",
       "       [1089.4923513 ,  434.4839772 ]])"
      ]
     },
     "execution_count": 38,
     "metadata": {},
     "output_type": "execute_result"
    }
   ],
   "source": [
    "utils.hom_to_inhom((ps @ Qtilde).reshape(-1, 3).T)"
   ]
  },
  {
   "cell_type": "code",
   "execution_count": null,
   "metadata": {},
   "outputs": [
    {
     "data": {
      "text/plain": [
       "(array([756.63331027, 629.03686302,   0.57736694]),\n",
       " array([7336.73589882, 5015.77192206,   11.54420459]))"
      ]
     },
     "execution_count": 27,
     "metadata": {},
     "output_type": "execute_result"
    }
   ],
   "source": [
    "p1 @ Qtilde, p2 @ Qtilde"
   ]
  }
 ],
 "metadata": {
  "interpreter": {
   "hash": "baa125a6947e7fe2d780fda829e288a844d09a2a427c95ce6f67ebd33720e2ef"
  },
  "kernelspec": {
   "display_name": "Python 3.9.7 ('sem10')",
   "language": "python",
   "name": "python3"
  },
  "language_info": {
   "codemirror_mode": {
    "name": "ipython",
    "version": 3
   },
   "file_extension": ".py",
   "mimetype": "text/x-python",
   "name": "python",
   "nbconvert_exporter": "python",
   "pygments_lexer": "ipython3",
   "version": "3.9.7"
  },
  "orig_nbformat": 4
 },
 "nbformat": 4,
 "nbformat_minor": 2
}
