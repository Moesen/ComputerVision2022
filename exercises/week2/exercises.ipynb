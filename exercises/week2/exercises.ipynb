{
 "cells": [
  {
   "cell_type": "code",
   "execution_count": null,
   "metadata": {},
   "outputs": [],
   "source": [
    "import numpy as np\n",
    "import matplotlib.pyplot as plt\n",
    "import seaborn as sns\n",
    "from scipy.interpolate import RegularGridInterpolator\n",
    "from PIL import Image\n",
    "\n",
    "sns.set_theme(palette=sns.color_palette(\"twilight_shifted\"))"
   ]
  },
  {
   "cell_type": "markdown",
   "metadata": {},
   "source": [
    "# Pinhole Camera\n",
    "## Exercise 2.1\n",
    "\n",
    "#### Resolution in pixels:\n",
    "We have $\\delta_x = 400$ and $\\delta_y = 400$. We know, that both $\\delta$ are signifying the distance from the middle of the image to the border of the image. The resolution is then $2\\delta_x \\times 2\\delta_y = 800 \\times 800$"
   ]
  },
  {
   "cell_type": "code",
   "execution_count": null,
   "metadata": {},
   "outputs": [],
   "source": [
    "def box3d(n: int) -> np.array:\n",
    "    l = np.linspace(-.5, .5, n)\n",
    "    ones = np.zeros(n)\n",
    "\n",
    "    box = np.array([l, ones, ones])\n",
    "    box = np.append(box, [l, ones-.5, ones-.5], axis=1)\n",
    "    box = np.append(box, [l, ones-.5, ones+.5], axis=1)\n",
    "    box = np.append(box, [l, ones+.5, ones+.5], axis=1)\n",
    "    box = np.append(box, [l, ones+.5, ones-.5], axis=1)\n",
    "\n",
    "    box = np.append(box, [ones, l, ones], axis=1)\n",
    "    box = np.append(box, [ones-.5, l, ones-.5], axis=1)\n",
    "    box = np.append(box, [ones-.5, l, ones+.5], axis=1)\n",
    "    box = np.append(box, [ones+.5, l, ones+.5], axis=1)\n",
    "    box = np.append(box, [ones+.5, l, ones-.5], axis=1)\n",
    "\n",
    "    box = np.append(box, [ones, ones, l], axis=1)\n",
    "    box = np.append(box, [ones-.5, ones-.5, l], axis=1)\n",
    "    box = np.append(box, [ones-.5, ones+.5, l], axis=1)\n",
    "    box = np.append(box, [ones+.5, ones+.5, l], axis=1)\n",
    "    box = np.append(box, [ones+.5, ones-.5, l], axis=1)\n",
    "\n",
    "    return box"
   ]
  },
  {
   "cell_type": "code",
   "execution_count": null,
   "metadata": {},
   "outputs": [],
   "source": [
    "box = box3d(16)\n",
    "\n",
    "fig = plt.figure(figsize=(10, 10))\n",
    "ax = fig.add_subplot(projection=\"3d\")\n",
    "ax.scatter(box[0], box[1], box[2])\n",
    "plt.show()"
   ]
  },
  {
   "cell_type": "code",
   "execution_count": null,
   "metadata": {},
   "outputs": [],
   "source": [
    "def projectpoints(K: np.array, R: np.array, t: np.array, Q: np.array):\n",
    "    t = t.reshape(len(t), 1)\n",
    "    Rt = np.append(R, t, axis=1)\n",
    "    P = K @ Rt\n",
    "        \n",
    "    print(f\"{P = }\")\n",
    "    Qh = np.append(Q, np.ones((1, Q.shape[1])), axis=0)\n",
    "    return P @ Qh\n",
    "\n",
    "f = 600\n",
    "alpha = 1\n",
    "beta = 0\n",
    "delta_x = delta_y = 400\n",
    "\n",
    "K = np.array([\n",
    "    [f, beta * f, delta_x],\n",
    "    [0, alpha * f, delta_y],\n",
    "    [0, 0, 1]\n",
    "])\n",
    "\n",
    "theta = 0\n",
    "R = np.array([\n",
    "    [np.cos(np.deg2rad(theta)), 0, np.sin(np.deg2rad(theta))],\n",
    "    [0, 1, 0],\n",
    "    [-np.sin(np.deg2rad(theta)), 0, np.cos(np.deg2rad(theta))]\n",
    "])\n",
    "\n",
    "t = np.array([0, .2, 1.5])\n",
    "\n",
    "projected = projectpoints(K, R, t, box)\n",
    "plt.scatter(projected[0], projected[1])\n",
    "plt.xlim(0, 800)\n",
    "plt.ylim(0, 800)\n",
    "plt.show()\n",
    "\n",
    "\n",
    "P1 = np.array([-.5, -.5, -.5])\n",
    "projected_P1 = projectpoints(K, R, t, np.array([P1]).T)\n",
    "print(\"Where does point P1 project to?\")\n",
    "print(projected_P1[:-1,0])"
   ]
  },
  {
   "cell_type": "markdown",
   "metadata": {},
   "source": [
    "## Exercise 2.2\n",
    "Implement dist in projectpoints function"
   ]
  },
  {
   "cell_type": "code",
   "execution_count": null,
   "metadata": {},
   "outputs": [],
   "source": [
    "def projectpointsdist(K: np.array, R: np.array, t: np.array, dist: np.array, Q: np.array):\n",
    "    t = t.reshape(len(t), 1)\n",
    "    Rt = np.append(R, t, axis=1)\n",
    "    homo_Q = np.append(Q, np.ones((1, Q.shape[1])), axis=0)\n",
    "    \n",
    "    RtQ = Rt @ homo_Q\n",
    "    RtQ_inhomo = RtQ[:-1]/RtQ[-1]\n",
    "\n",
    "    distances = np.linalg.norm(RtQ_inhomo, axis=0) ** 2\n",
    "    coffs_dists = (distances * dist.reshape(dist.size, 1))\n",
    "    sums = np.sum(coffs_dists, axis=0)\n",
    "    \n",
    "    dist_p = RtQ_inhomo * (1 + sums)\n",
    "    \n",
    "    RtQ_homo = np.append(dist_p, np.ones((1, RtQ_inhomo.shape[1])), axis=0)\n",
    "    \n",
    "    return K @ RtQ_homo\n",
    "\n",
    "f = 600\n",
    "alpha = 1\n",
    "beta = 0\n",
    "delta_x = delta_y = 400\n",
    "\n",
    "K = np.array([\n",
    "    [f, beta * f, delta_x],\n",
    "    [0, alpha * f, delta_y],\n",
    "    [0, 0, 1]\n",
    "])\n",
    "\n",
    "theta = 0\n",
    "R = np.identity(3)\n",
    "t = np.array([0, .2, 1.5])\n",
    "\n",
    "dist = np.array([-.2])\n",
    "projected = projectpointsdist(K, R, t, dist, box)\n",
    "plt.scatter(projected[0], projected[1])\n",
    "plt.xlim(0, 800)\n",
    "plt.ylim(0, 800)\n",
    "plt.show()\n",
    "\n",
    "\n",
    "P1 = np.array([-.5, -.5, -.5])\n",
    "projected_P1 = projectpointsdist(K, R, t, dist, np.array([P1]).T)\n",
    "print(\"Where does point P1 project to?\")\n",
    "print(projected_P1[:-1,0])"
   ]
  },
  {
   "cell_type": "markdown",
   "metadata": {},
   "source": [
    "## Exercise 2.4 - Undistorting an image\n",
    "Image is undistorted by distorting it with regards to the coefficients. As we are looking at an already projected geometry, aka the image is already taken, we cannot just do as previous and project 3d points to a 2d plane. Instead the coordinates are first converted to the inhomogenous camera coordinates using the inverse of the camera matrix, and then the distortion is achieved using the coeffs."
   ]
  },
  {
   "cell_type": "code",
   "execution_count": null,
   "metadata": {},
   "outputs": [],
   "source": [
    "img = Image.open(\"gopro_robot.jpg\")\n",
    "arr = np.asarray(img)\n",
    "arr = arr.transpose((1, 0, 2))\n",
    "\n",
    "plt.figure(figsize=(17, 10))\n",
    "plt.grid(False)\n",
    "plt.imshow(arr.transpose((1, 0, 2)))\n",
    "plt.show()"
   ]
  },
  {
   "cell_type": "code",
   "execution_count": null,
   "metadata": {},
   "outputs": [],
   "source": [
    "def distortImage(pixel_values: np.array, K: np.array, dist_coffs: np.array):\n",
    "    img_coords = np.array(np.meshgrid(range(1920), range(1080), [1])).T.reshape(-1, 3).T\n",
    "    inv_K = np.linalg.inv(K)\n",
    "\n",
    "    homo_inv_camera_coords = inv_K @ img_coords\n",
    "    inhomo_inv_camera_coords = homo_inv_camera_coords[:-1]/homo_inv_camera_coords[-1]\n",
    "\n",
    "    # Takes the power in increasing order for each coefficient of the distances\n",
    "    distances = np.linalg.norm(inhomo_inv_camera_coords, axis=0).reshape(-1, 1)\n",
    "    # Power to the distances\n",
    "    powers = np.arange(2, len(dist_coffs) * 2 + 1, step=2).reshape(-1, 1)\n",
    "    # Distances to the increasing power according to formular\n",
    "    power_dists = (distances ** powers.T)\n",
    "    # Coefficients times the distances to the powers\n",
    "    coff_dists = dist_coffs * power_dists\n",
    "    # Sums of the distances\n",
    "    sums = np.sum(coff_dists, axis=1)\n",
    "    # New distorted projects\n",
    "    dist_p = inhomo_inv_camera_coords * (1 + sums)\n",
    "    # New homogenous coordinates\n",
    "    homo = np.append(dist_p, np.ones((1, inhomo_inv_camera_coords.shape[1])), axis=0)\n",
    "    # Projecting with camera matrix\n",
    "    projected = K @ homo\n",
    "    # Converting to inhomogenous coordinates\n",
    "    inhomo_projected = projected[:-1]/projected[-1]\n",
    "    # Creating pixel coordinates\n",
    "    x, y = np.arange(0, 1920), np.arange(0, 1080)\n",
    "    # Creating interpolator\n",
    "    interpolator = RegularGridInterpolator((x, y), pixel_values)\n",
    "    # Interpolating pixels\n",
    "    pixels = interpolator(inhomo_projected.T).reshape((1920, 1080, 3)).transpose((1,0,2))\n",
    "    # Normalizing pixels\n",
    "    normalized = pixels/np.amax(pixels, axis=tuple(range(2)))\n",
    "    return normalized\n",
    "\n",
    "\n",
    "K = np.array([\n",
    "    [875, 0, 960],\n",
    "    [0, 875, 540],\n",
    "    [0, 0, 1]\n",
    "])\n",
    "\n",
    "k3 = -0.245031\n",
    "k5 = 0.071524\n",
    "k7 = -0.00994978\n",
    "\n",
    "coffs = np.array([k3, k5, k7])\n",
    "\n",
    "pixels = distortImage(arr, K, coffs)"
   ]
  },
  {
   "cell_type": "code",
   "execution_count": null,
   "metadata": {},
   "outputs": [],
   "source": [
    "plt.figure(figsize=(17.7, 10))\n",
    "plt.grid(False)\n",
    "plt.imshow(pixels)\n",
    "plt.show()"
   ]
  },
  {
   "cell_type": "markdown",
   "metadata": {},
   "source": [
    "## Homographies"
   ]
  },
  {
   "cell_type": "markdown",
   "metadata": {},
   "source": [
    "### Exercise 2.5"
   ]
  },
  {
   "cell_type": "code",
   "execution_count": null,
   "metadata": {},
   "outputs": [],
   "source": [
    "H = np.array([[-2, 0, 1], [1, -2, 0], [0, 0, 3]])\n",
    "\n",
    "p = np.array([\n",
    "    [1, 0, 2, 2],\n",
    "    [1, 3, 3, 4]\n",
    "    ])\n",
    "[p1, p2, p3, p4] = p.T\n",
    "\n",
    "homo_points = np.append(p, np.ones((1, 4)), axis=0)\n",
    "q = H @ homo_points\n",
    "q = q[:-1, :]/q[-1, :]\n",
    "q, p"
   ]
  },
  {
   "cell_type": "markdown",
   "metadata": {},
   "source": [
    "### Exercise 2.6"
   ]
  },
  {
   "cell_type": "code",
   "execution_count": null,
   "metadata": {},
   "outputs": [],
   "source": [
    "def hest(q1: np.array, q2: np.array) -> np.array:\n",
    "    makeB = lambda p, q: np.array([\n",
    "        [-p[0], -p[1], -1, 0, 0, 0, (p[0] * q[0]), (p[1] * q[0]), q[0]],\n",
    "        [0, 0, 0, -p[0], -p[1], -1, (p[0] * q[1]), (p[1] * q[1]), q[1]]\n",
    "    ])\n",
    "    B = np.vstack([makeB(p, q) for p,q in zip(q1.T, q2.T)])\n",
    "    # Creating the A matrix\n",
    "    A = B.T @ B\n",
    "    # Doing svd\n",
    "    _, _, vh = np.linalg.svd(A)\n",
    "    np.set_printoptions(suppress=True)\n",
    "    # Taking the last row of the vh, as those are the eigenvectors with smallest eigenvalues\n",
    "    H = vh[-1].reshape((3, 3))\n",
    "    return H\n",
    "\n",
    "H = np.array([[-2, 0, 1], [1, -2, 0], [0, 0, 3]])\n",
    "test_H = hest(p, q)\n",
    "test_H"
   ]
  },
  {
   "cell_type": "code",
   "execution_count": null,
   "metadata": {},
   "outputs": [],
   "source": [
    "\n",
    "def hest_cron(t: np.array, f: np.array) -> np.array:\n",
    "    # Creating matrix from (f) point to (t)\n",
    "    def makeB(p: np.array, q: np.array) -> np.array:\n",
    "        # q homogenous\n",
    "        qh = np.append(q, 1)\n",
    "        m = np.array([\n",
    "            [0, -1, p[1]],\n",
    "            [1, 0, -p[0]],\n",
    "            [-p[1], p[0], 0]\n",
    "        ])\n",
    "        return np.kron(qh, m)\n",
    "    \n",
    "    B = np.vstack([makeB(p, q) for p, q in zip(t.T, f.T)])\n",
    "    A = B.T @ B\n",
    "    \n",
    "    _, _, vh = np.linalg.svd(A)\n",
    "    H = vh[-1].reshape((3, 3)).T\n",
    "    return H\n",
    "test_H = hest_cron(p, q )\n",
    "print(f\"{p[:, 0] = }, {q[:, 0] = }\")\n",
    "a = test_H @ np.append(p[:,0], 1)\n",
    "a[:-1]/a[-1]"
   ]
  },
  {
   "cell_type": "code",
   "execution_count": null,
   "metadata": {},
   "outputs": [],
   "source": [
    "a = np.array([[2, 3, 4]]).T\n",
    "b = np.ones((2, 2))\n",
    "\n",
    "np.kron(a, b)\n"
   ]
  },
  {
   "cell_type": "markdown",
   "metadata": {},
   "source": [
    "## Exercise 2.7"
   ]
  },
  {
   "cell_type": "code",
   "execution_count": null,
   "metadata": {},
   "outputs": [],
   "source": [
    "def normalize2d(p: np.array):\n",
    "    return (p - p.mean()) / (p.std())\n",
    "def normalizeAll2d(p: np.array, q: np.array):\n",
    "    mean = np.array([p, q]).mean()\n",
    "    std = np.array([p, q]).std()\n",
    "    norm_p = (p - mean)/(std)\n",
    "    norm_q = (q - mean)/(std)\n",
    "    return norm_p, norm_q"
   ]
  },
  {
   "cell_type": "markdown",
   "metadata": {},
   "source": [
    "## Exercise 2.8"
   ]
  },
  {
   "cell_type": "code",
   "execution_count": null,
   "metadata": {},
   "outputs": [],
   "source": [
    "def hest(q1: np.array, q2: np.array) -> np.array:\n",
    "    norm_p, norm_q = normalizeAll2d(q1, q2)\n",
    "    makeB = lambda p, q: np.array([\n",
    "        [-p[0], -p[1], -1, 0, 0, 0, (p[0] * q[0]), (p[1] * q[0]), q[0]],\n",
    "        [0, 0, 0, -p[0], -p[1], -1, (p[0] * q[1]), (p[1] * q[1]), q[1]]\n",
    "    ])\n",
    "    B = np.vstack([makeB(p, q) for p, q in zip(norm_p.T, norm_q.T)])\n",
    "    # Creating the A matrix\n",
    "    A = B.T @ B\n",
    "    # Doing svd\n",
    "    _, _, vh = np.linalg.svd(A)\n",
    "    # Taking the last row of the vh, as those are the eigenvectors with smallest eigenvalues\n",
    "    H = vh[-1].reshape((3, 3))\n",
    "    return H\n",
    "\n",
    "test_H = hest(p, q) * 4.5\n",
    "test_H"
   ]
  },
  {
   "cell_type": "markdown",
   "metadata": {},
   "source": [
    "## Exercise 2.9"
   ]
  },
  {
   "cell_type": "code",
   "execution_count": null,
   "metadata": {},
   "outputs": [],
   "source": [
    "N = 100\n",
    "points = np.random.randn(2, N)\n",
    "homo_points = np.vstack((points, np.ones(N)))\n",
    "\n",
    "homo_qoints = H @ homo_points\n",
    "qoints = homo_qoints[:-1]/homo_qoints[-1]\n",
    "\n",
    "H = hest(points, qoints)\n",
    "H"
   ]
  }
 ],
 "metadata": {
  "interpreter": {
   "hash": "e37411e23a93956e43c0fce60ab92c125541de717f8d2c80eb39d8e7ed4e682a"
  },
  "kernelspec": {
   "display_name": "Python 3.8.12 ('sem10')",
   "language": "python",
   "name": "python3"
  },
  "language_info": {
   "codemirror_mode": {
    "name": "ipython",
    "version": 3
   },
   "file_extension": ".py",
   "mimetype": "text/x-python",
   "name": "python",
   "nbconvert_exporter": "python",
   "pygments_lexer": "ipython3",
   "version": "3.8.12"
  },
  "orig_nbformat": 4
 },
 "nbformat": 4,
 "nbformat_minor": 2
}
